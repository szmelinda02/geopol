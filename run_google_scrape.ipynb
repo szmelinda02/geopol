{
 "cells": [
  {
   "cell_type": "code",
   "execution_count": 3,
   "metadata": {},
   "outputs": [],
   "source": [
    "from selenium import webdriver\n",
    "from selenium.webdriver.common.by import By\n",
    "import time\n",
    "import random\n",
    "import pandas as pd\n",
    "import pickle\n",
    "import os"
   ]
  },
  {
   "cell_type": "code",
   "execution_count": 14,
   "metadata": {},
   "outputs": [],
   "source": [
    "topic = 'immigrants'\n",
    "temp_folder = 'immigrants/temp'\n",
    "\n",
    "try:\n",
    "    os.mkdir(topic)\n",
    "except:\n",
    "    pass\n",
    "\n",
    "try:\n",
    "    os.mkdir(temp_folder)\n",
    "except:\n",
    "    pass"
   ]
  },
  {
   "cell_type": "code",
   "execution_count": 7,
   "metadata": {},
   "outputs": [],
   "source": [
    "def scroll(driver, pause_time):\n",
    "    scroll_available = True\n",
    "    full_height = driver.execute_script(\"return document.body.scrollHeight;\")\n",
    "\n",
    "    driver.execute_script(\"window.scrollTo(0, Math.ceil(document.body.scrollHeight));\")\n",
    "    time.sleep(pause_time+random.uniform(2, 1))\n",
    "\n",
    "    full_height_after_scroll = driver.execute_script(\"return document.body.scrollHeight;\")\n",
    "\n",
    "    if full_height == full_height_after_scroll:\n",
    "\n",
    "        try:\n",
    "            driver.find_element(By.XPATH, \"//span[text()='További találatok']\").click()\n",
    "            time.sleep(pause_time+random.uniform(2, 1))\n",
    "\n",
    "        except:\n",
    "            print('No more place to scroll')\n",
    "            scroll_available = False\n",
    "    time.sleep(pause_time+random.uniform(2, 1))\n",
    "    return scroll_available"
   ]
  },
  {
   "cell_type": "code",
   "execution_count": 8,
   "metadata": {},
   "outputs": [],
   "source": [
    "def get_all_href(link, pausetime):\n",
    "    driver = webdriver.Edge()\n",
    "    driver.maximize_window()\n",
    "    driver.get(link)\n",
    "\n",
    "    driver.find_element(By.XPATH, \"//div[text()='Az összes elfogadása']\").click() \n",
    "\n",
    "    scroll_available=True\n",
    "    while scroll_available:\n",
    "        scroll_available = scroll(driver,pausetime)\n",
    "\n",
    "    hrefek = driver.find_elements(By.CLASS_NAME, \"g\")\n",
    "    href_lst = []\n",
    "    for href in hrefek:\n",
    "        href_lst.append(href.find_elements(By.TAG_NAME, \"a\")[0].get_attribute(\"href\"))\n",
    "\n",
    "    return href_lst"
   ]
  },
  {
   "cell_type": "code",
   "execution_count": 11,
   "metadata": {},
   "outputs": [],
   "source": [
    "s_list = ['immigration']\n",
    "site_list = ['france24.com']"
   ]
  },
  {
   "cell_type": "code",
   "execution_count": 12,
   "metadata": {},
   "outputs": [
    {
     "name": "stdout",
     "output_type": "stream",
     "text": [
      "start:immigration, france24.com\n",
      "No more place to scroll\n",
      "end:immigration, france24.com\n"
     ]
    }
   ],
   "source": [
    "results = {}\n",
    "for s in s_list:\n",
    "    for site in site_list:\n",
    "        print(f'start:{s}, {site}')\n",
    "        results[(s,site)] = get_all_href(f\"https://www.google.com/search?q={s}+site:{site}&source=lnt&tbs=qdr:y\", 1)\n",
    "        with open(f'{temp_folder}/article_urls.pkl', 'wb') as fp:\n",
    "            pickle.dump(results, fp)\n",
    "        print(f'end:{s}, {site}')\n",
    "        time.sleep(10)"
   ]
  },
  {
   "cell_type": "code",
   "execution_count": null,
   "metadata": {},
   "outputs": [],
   "source": []
  }
 ],
 "metadata": {
  "kernelspec": {
   "display_name": "geopol-env",
   "language": "python",
   "name": "geopol-env"
  },
  "language_info": {
   "codemirror_mode": {
    "name": "ipython",
    "version": 3
   },
   "file_extension": ".py",
   "mimetype": "text/x-python",
   "name": "python",
   "nbconvert_exporter": "python",
   "pygments_lexer": "ipython3",
   "version": "3.9.13"
  }
 },
 "nbformat": 4,
 "nbformat_minor": 2
}
